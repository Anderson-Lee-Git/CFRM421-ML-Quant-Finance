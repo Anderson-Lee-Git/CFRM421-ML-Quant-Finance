{
 "cells": [
  {
   "attachments": {},
   "cell_type": "markdown",
   "metadata": {},
   "source": [
    "## Table of Content\n",
    "1. [Load Data](#Load-Data)\n",
    "2. [Feature Extraction](#Feature-Extraction)\n",
    "3. [TimeSeriesSplit](#TimeSeriesSplit)\n",
    "4. [Transform to Supervised Setup](#transform-to-supervised-setup)\n",
    "5. [Train LSTM-based autoencoder](#train-lstm-based-autoencoder)\n",
    "6. [Train Linear Model](#train-linear-model)\n",
    "7. [Feedback Needed](#feedback-needed)\n",
    "8. [Appendix: Data Preparation](#appendix-data-preparation)"
   ]
  },
  {
   "attachments": {},
   "cell_type": "markdown",
   "metadata": {},
   "source": [
    "## Project Goal\n",
    "\n",
    "The goal of this project is to predict 20-day return of stock `AAPL`. While modern advances in transformers are promising for time-series forecasting, recent works show that MLPs and linear models have comparable capabilities in some tasks. Inspired by such work, we implement an ensemble of linear models with different lookback period to predict 20-day return of stock `AAPL`. We first obtain the raw data of quotes, financials, and fundamentals from yahoo finance. Then, we unify and preprocess the data format into a single `DataFrame`(see [Appendix](#appendix-data-preparation) for more details). With an unified data, we extract features of technical indicators from the data, split into train-val-test sets, standardize them, and then transform into a supervised setup. To denoise the data, we perform dimensionality reduction through training an autoencoder. Finally, we train multiple MLPs on the reduced data to perform forecasting."
   ]
  },
  {
   "attachments": {},
   "cell_type": "markdown",
   "metadata": {},
   "source": [
    "## Load Data\n",
    "\n",
    "The data loaded here has been combined and unified from multiple raw data sources. The dates are restricted to 2013/05/06 - 2023/04/26."
   ]
  },
  {
   "cell_type": "code",
   "execution_count": 1,
   "metadata": {},
   "outputs": [
    {
     "data": {
      "text/plain": [
       "Index(['Unnamed: 0', 'Date', 'Open', 'Close', 'High', 'Low', 'Volume',\n",
       "       'S&P500', 'PeRatio', 'PsRatio', 'PbRatio',\n",
       "       'EnterpriseValueRevenueRatio', 'EnterpriseValueEDITDARatio',\n",
       "       'BasicEPS'],\n",
       "      dtype='object')"
      ]
     },
     "execution_count": 1,
     "metadata": {},
     "output_type": "execute_result"
    }
   ],
   "source": [
    "import pandas as pd\n",
    "data = pd.read_csv('../prepared_data/data.csv')\n",
    "data.columns"
   ]
  },
  {
   "attachments": {},
   "cell_type": "markdown",
   "metadata": {},
   "source": [
    "## Feature Extraction\n",
    "\n",
    "The goal is to get these technical indicators. Most of them are implemented using an open-source library [`stock_indicators`](https://python.stockindicators.dev/).\n",
    "\n",
    "- $n$-day return\n",
    "- Typical Price = average of high, low, and close\n",
    "- [Relative Strength Index](https://en.wikipedia.org/wiki/Relative_strength_index)\n",
    "- [Stochastic Oscillator](https://en.wikipedia.org/wiki/Stochastic_oscillator)\n",
    "- [Williams %R](https://www.investopedia.com/terms/w/williamsr.asp)\n",
    "- [Moving Average Convergence Divergence(MACD)](https://www.investopedia.com/terms/m/macd.asp#:~:text=Moving%20average%20convergence%2Fdivergence%20(MACD%2C%20or%20MAC%2DD,from%20the%2012%2Dperiod%20EMA.)) = Short lookback EMA - Long lookback EMA\n",
    "- [On-Balance Volume (OBV)](https://www.investopedia.com/terms/o/onbalancevolume.asp): Volume-based momentum\n",
    "- [Commodity Channel Index (CCI)](https://www.investopedia.com/terms/c/commoditychannelindex.asp#:~:text=The%20Commodity%20Channel%20Index%20(CCI)%20is%20a%20technical%20indicator%20that,is%20below%20the%20historic%20average.): Evaluate the current price as opposed to the historical price\n",
    "- $n$ days Moving Average\n",
    "    - Simple Moving Average\n",
    "    - Smoothed Moving Average\n",
    "    - Exponential Moving Average\n",
    "- [Average True Range (ATR)](https://www.fidelity.com/learning-center/trading-investing/technical-analysis/technical-indicator-guide/atr#:~:text=Average%20True%20Range%20(ATR)%20is,daily%2C%20weekly%2C%20or%20monthly.): The average of the true range as a way to evaluate the volatility\n",
    "\n",
    "Some technical indicators require previous $n$ days average of return or prices. We use `n` to represents the number of days we use for the averaging. By default, `n = 40`."
   ]
  },
  {
   "cell_type": "code",
   "execution_count": 3,
   "metadata": {},
   "outputs": [],
   "source": [
    "import numpy as np\n",
    "from stock_indicators import Quote, indicators\n",
    "from datetime import datetime\n",
    "\n",
    "def data_to_quotes(data): \n",
    "    # Transform the date dtype to be compatible with stock_indicators pkg\n",
    "    data['Date'] = pd.to_datetime(data['Date'], format=\"%Y-%m-%d\")\n",
    "    # A list of Quotes for using stock_indicators\n",
    "    aapl = [\n",
    "        Quote(d,o,h,l,c,v) \n",
    "        for d,o,h,l,c,v \n",
    "        in zip(data['Date'], data['Open'], data['High'], data['Low'], data['Close'], data['Volume'])\n",
    "    ]\n",
    "    return aapl\n",
    "\n",
    "def n_day_return(X, n): \n",
    "    '''\n",
    "    n-day return is (current day closing price - n days ago opening price) / n days ago opening price. \n",
    "    \n",
    "    Args: \n",
    "        X (np.ndarray): \n",
    "            np.ndarray with open, close \n",
    "        n (int): \n",
    "            The number of days ago. \n",
    "        \n",
    "    Returns: \n",
    "        n_day_return (np.array): \n",
    "            An array of n-day return with shape (len(X),) where the first n entries would be none\n",
    "    '''\n",
    "    op = np.array(X.Open[:-n])\n",
    "    cls = np.array(X.Close[n:])\n",
    "    ret = (cls - op) / (op)\n",
    "    res =  np.concatenate(([None for i in range(n)], ret), axis=0)\n",
    "    return res.reshape((-1, 1))\n",
    "    \n",
    "def typical_price(X): \n",
    "    '''\n",
    "    Typical price is the average of close, high, and low prices. \n",
    "    \n",
    "    Args:\n",
    "        X (np.ndarray): \n",
    "            np.ndarray with close, high, low columns. \n",
    "        \n",
    "    Returns: \n",
    "        typical_price (np.array): \n",
    "            An array of typical price\n",
    "    '''\n",
    "    return (X.high + X.low + X.close) / 3\n",
    "\n",
    "def relative_strength_index(quotes, n): \n",
    "    rsi_results = indicators.get_rsi(quotes, n) \n",
    "    rsi = []\n",
    "    for rsi_result in rsi_results: \n",
    "        rsi.append(rsi_result.rsi)\n",
    "    return np.array(rsi).reshape((-1, 1)) \n",
    "\n",
    "def stochastic_oscillator(quotes, n): \n",
    "    stoch_results = indicators.get_stoch(quotes, lookback_periods=n)\n",
    "    stoch = [] \n",
    "    for stoch_result in stoch_results: \n",
    "        stoch.append(stoch_result.oscillator) \n",
    "    return np.array(stoch).reshape((-1, 1)) \n",
    "\n",
    "def william_r(quotes, n): \n",
    "    william_r_results = indicators.get_williams_r(quotes, lookback_periods=n)\n",
    "    william_r = [] \n",
    "    for william_r_result in william_r_results: \n",
    "        william_r.append(william_r_result.williams_r)\n",
    "    return np.array(william_r).reshape((-1, 1)) \n",
    "\n",
    "def macd(quotes, short_period, long_period): \n",
    "    macd_results = indicators.get_macd(quotes, fast_periods=short_period, slow_periods=long_period)\n",
    "    macd = [] \n",
    "    for macd_result in macd_results: \n",
    "        macd.append(macd_result.macd) \n",
    "    return np.array(macd).reshape((-1, 1)) \n",
    "\n",
    "def on_balanced_volume(quotes, n): \n",
    "    obv_results = indicators.get_obv(quotes, sma_periods=n) \n",
    "    obv = []\n",
    "    for obv_result in obv_results: \n",
    "        obv.append(obv_result.obv)\n",
    "    return np.array(obv).reshape((-1, 1))\n",
    "\n",
    "def commodity_channel_index(quotes, n): \n",
    "    cci_results = indicators.get_cci(quotes, lookback_periods=n)\n",
    "    cci = []\n",
    "    for cci_result in cci_results: \n",
    "        cci.append(cci_result.cci) \n",
    "    return np.array(cci).reshape((-1, 1)) \n",
    "\n",
    "def simple_moving_average(quotes, n): \n",
    "    sma_results = indicators.get_sma(quotes, n) \n",
    "    sma = []\n",
    "    for sma_result in sma_results: \n",
    "        sma.append(sma_result.sma) \n",
    "    return np.array(sma).reshape((-1, 1))  \n",
    "\n",
    "def smoothed_moving_average(quotes, n): \n",
    "    smma_results = indicators.get_smma(quotes, n) \n",
    "    smma = []\n",
    "    for smma_result in smma_results: \n",
    "        smma.append(smma_result.smma)\n",
    "    return np.array(smma).reshape((-1, 1))  \n",
    "\n",
    "def exponential_moving_average(quotes, n): \n",
    "    ema_results = indicators.get_ema(quotes, n) \n",
    "    ema = []\n",
    "    for ema_result in ema_results: \n",
    "        ema.append(ema_result.ema) \n",
    "    return np.array(ema).reshape((-1, 1)) \n",
    "\n",
    "def average_true_range(quotes, n): \n",
    "    atr_results = indicators.get_atr(quotes, n) \n",
    "    atr = [] \n",
    "    for atr_result in atr_results: \n",
    "        atr.append(atr_result.atr) \n",
    "    return np.array(atr).reshape((-1, 1)) "
   ]
  },
  {
   "attachments": {},
   "cell_type": "markdown",
   "metadata": {},
   "source": [
    "We use a column transformer to concatenate all extracted features"
   ]
  },
  {
   "cell_type": "code",
   "execution_count": 4,
   "metadata": {},
   "outputs": [],
   "source": [
    "from sklearn.compose import ColumnTransformer\n",
    "from sklearn.pipeline import Pipeline\n",
    "from sklearn.preprocessing import FunctionTransformer, StandardScaler\n",
    "\n",
    "# n refers to the number of days to lookback for some of the features \n",
    "#   e.g. william %R would take into account the highest high price in a given period. That period is determined by n \n",
    "n = 40\n",
    "# short_period and long_period are for MACD \n",
    "short_period = n // 2 \n",
    "long_period = n\n",
    "\n",
    "# Concatenate the columns\n",
    "transformer = ColumnTransformer([\n",
    "    ('original_features', 'passthrough', data.columns),\n",
    "    ('rsi', Pipeline([\n",
    "        ('to_quotes', FunctionTransformer(data_to_quotes)), \n",
    "        ('rsi', FunctionTransformer(relative_strength_index, kw_args={'n': n}))\n",
    "    ]), data.columns),\n",
    "    ('stoch', Pipeline([\n",
    "        ('to_quotes', FunctionTransformer(data_to_quotes)), \n",
    "        ('stoch', FunctionTransformer(stochastic_oscillator, kw_args={'n': n}))\n",
    "    ]), data.columns),\n",
    "    ('william_r', Pipeline([\n",
    "        ('to_quotes', FunctionTransformer(data_to_quotes)), \n",
    "        ('william_r', FunctionTransformer(william_r, kw_args={'n': n}))\n",
    "    ]), data.columns),\n",
    "    ('macd', Pipeline([\n",
    "        ('to_quotes', FunctionTransformer(data_to_quotes)), \n",
    "        ('macd', FunctionTransformer(macd, kw_args={'short_period': short_period, 'long_period': long_period}))\n",
    "    ]), data.columns),\n",
    "    ('obv', Pipeline([\n",
    "        ('to_quotes', FunctionTransformer(data_to_quotes)), \n",
    "        ('obv', FunctionTransformer(on_balanced_volume, kw_args={'n': n}))\n",
    "    ]), data.columns),\n",
    "    ('cci', Pipeline([\n",
    "        ('to_quotes', FunctionTransformer(data_to_quotes)), \n",
    "        ('cci', FunctionTransformer(commodity_channel_index, kw_args={'n': n}))\n",
    "    ]), data.columns),\n",
    "    ('sma', Pipeline([\n",
    "        ('to_quotes', FunctionTransformer(data_to_quotes)), \n",
    "        ('sma', FunctionTransformer(simple_moving_average, kw_args={'n': n}))\n",
    "    ]), data.columns),\n",
    "    ('smma', Pipeline([\n",
    "        ('to_quotes', FunctionTransformer(data_to_quotes)), \n",
    "        ('smma', FunctionTransformer(smoothed_moving_average, kw_args={'n': n}))\n",
    "    ]), data.columns),\n",
    "    ('ema', Pipeline([\n",
    "        ('to_quotes', FunctionTransformer(data_to_quotes)), \n",
    "        ('ema', FunctionTransformer(exponential_moving_average, kw_args={'n': n}))\n",
    "    ]), data.columns),\n",
    "    ('atr', Pipeline([\n",
    "        ('to_quotes', FunctionTransformer(data_to_quotes)), \n",
    "        ('atr', FunctionTransformer(average_true_range, kw_args={'n': n}))\n",
    "    ]), data.columns),\n",
    "    ('5_day_return', FunctionTransformer(n_day_return, kw_args={'n': 5}), ['Open', 'Close']), \n",
    "    ('10_day_return', FunctionTransformer(n_day_return, kw_args={'n': 10}), ['Open', 'Close']), \n",
    "    ('n_day_return', FunctionTransformer(n_day_return, kw_args={'n': n}), ['Open', 'Close']),\n",
    "    ('20_day_return', FunctionTransformer(n_day_return, kw_args={'n': 20}), ['Open', 'Close']), \n",
    "], remainder='passthrough')\n",
    "\n",
    "# Drop the first and the second column which is indices and dates\n",
    "full_data = transformer.fit_transform(data)[:, 1:]"
   ]
  },
  {
   "attachments": {},
   "cell_type": "markdown",
   "metadata": {},
   "source": [
    "Since some of the technical indicators require lookback, the first $n$ points would contain `None`. We choose to drop those data points."
   ]
  },
  {
   "cell_type": "code",
   "execution_count": 5,
   "metadata": {},
   "outputs": [
    {
     "name": "stdout",
     "output_type": "stream",
     "text": [
      "(2471, 27)\n"
     ]
    }
   ],
   "source": [
    "prefix = 0 \n",
    "while prefix < full_data.shape[0]: \n",
    "    if np.equal(full_data[prefix:], None).any():\n",
    "        prefix += 1\n",
    "    else: \n",
    "        break\n",
    "full_data = full_data[prefix:]\n",
    "print(full_data.shape)"
   ]
  },
  {
   "attachments": {},
   "cell_type": "markdown",
   "metadata": {},
   "source": [
    "## TimeSeriesSplit\n",
    "\n",
    "We use [`sklearn.model_selection.TimeSeriesSplit`](https://scikit-learn.org/stable/modules/generated/sklearn.model_selection.TimeSeriesSplit.html#sklearn.model_selection.TimeSeriesSplit.split) to split the data into 3-fold to train and evaluate the model. In addition, `test set` is split into `validation set` and `test set` to tune the model. "
   ]
  },
  {
   "cell_type": "code",
   "execution_count": 6,
   "metadata": {},
   "outputs": [
    {
     "name": "stdout",
     "output_type": "stream",
     "text": [
      "Fold 0:\n",
      "  Training set size = 620\n",
      "  Validation set size = 90\n",
      "  Test set size = 527\n",
      "  Training set start date = 2013-07-03\n",
      "  Training set end date = 2015-12-16\n",
      "  Validation set start date = 2015-12-17\n",
      "  Validation set end date = 2016-04-27\n",
      "  Test set start date = 2016-04-28\n",
      "  Test set end date = 2018-05-31\n",
      "Fold 1:\n",
      "  Training set size = 900\n",
      "  Validation set size = 90\n",
      "  Test set size = 527\n",
      "  Training set start date = 2014-11-03\n",
      "  Training set end date = 2018-05-31\n",
      "  Validation set start date = 2018-06-01\n",
      "  Validation set end date = 2018-10-08\n",
      "  Test set start date = 2018-10-09\n",
      "  Test set end date = 2020-11-10\n",
      "Fold 2:\n",
      "  Training set size = 900\n",
      "  Validation set size = 90\n",
      "  Test set size = 527\n",
      "  Training set start date = 2017-04-18\n",
      "  Training set end date = 2020-11-10\n",
      "  Validation set start date = 2020-11-11\n",
      "  Validation set end date = 2021-03-23\n",
      "  Test set start date = 2021-03-24\n",
      "  Test set end date = 2023-04-26\n"
     ]
    }
   ],
   "source": [
    "from sklearn.model_selection import TimeSeriesSplit \n",
    "\n",
    "tscv = TimeSeriesSplit(n_splits=3, max_train_size=900) \n",
    "folds = []\n",
    "for i, (train_index, test_index) in enumerate(tscv.split(full_data)):\n",
    "     # First 90 dates of test set\n",
    "     validation_index = test_index[:90]\n",
    "     test_index = test_index[90:]\n",
    "     print(f\"Fold {i}:\")\n",
    "     print(f\"  Training set size = {len(train_index)}\")\n",
    "     print(f\"  Validation set size = {len(validation_index)}\")\n",
    "     print(f\"  Test set size = {len(test_index)}\")\n",
    "     print(f\"  Training set start date = {full_data[train_index[0], 0]}\")\n",
    "     print(f\"  Training set end date = {full_data[train_index[-1], 0]}\")\n",
    "     print(f\"  Validation set start date = {full_data[validation_index[0], 0]}\")\n",
    "     print(f\"  Validation set end date = {full_data[validation_index[-1], 0]}\")\n",
    "     print(f\"  Test set start date = {full_data[test_index[0], 0]}\")\n",
    "     print(f\"  Test set end date = {full_data[test_index[-1], 0]}\")\n",
    "     folds.append((train_index, validation_index, test_index))"
   ]
  },
  {
   "attachments": {},
   "cell_type": "markdown",
   "metadata": {},
   "source": [
    "## Transform to Supervised Setup\n",
    "\n",
    "A supervised setup consists of `X`, `y` where `X` are `L` days lookback of all the features and `y` is 20-day return. In addition, to satisfy the shape requirement of using LSTM-based autoencoder, we need to shape the data to be $n \\times \\text{timestep} \\times \\text{d}$, which is `n * L * d`. We store all `X_train, y_train, X_val, y_val, X_test, y_test` of each fold into a `list` of `dict` called `fold_data`."
   ]
  },
  {
   "cell_type": "code",
   "execution_count": 7,
   "metadata": {},
   "outputs": [],
   "source": [
    "from sklearn.preprocessing import StandardScaler\n",
    "\n",
    "def supervised_transformer(data, L=10, H=1): \n",
    "    X, y = data \n",
    "    X_result = []\n",
    "    y_result = []\n",
    "    for i in range(L, X.shape[0]-H+1): \n",
    "        X_result.append(X[i-L:i])\n",
    "        y_result.append(y[i:i+H])\n",
    "    \n",
    "    X_result = np.array(X_result)\n",
    "    y_result = np.array(y_result).squeeze()\n",
    "    print(f'X\\'s shape = {X_result.shape}')\n",
    "    print(f'y\\'s shape = {y_result.shape}')\n",
    "    return X_result, y_result"
   ]
  },
  {
   "cell_type": "code",
   "execution_count": 9,
   "metadata": {},
   "outputs": [
    {
     "name": "stdout",
     "output_type": "stream",
     "text": [
      "X's shape = (615, 5, 26)\n",
      "y's shape = (615,)\n",
      "X's shape = (85, 5, 26)\n",
      "y's shape = (85,)\n",
      "X's shape = (522, 5, 26)\n",
      "y's shape = (522,)\n",
      "X's shape = (895, 5, 26)\n",
      "y's shape = (895,)\n",
      "X's shape = (85, 5, 26)\n",
      "y's shape = (85,)\n",
      "X's shape = (522, 5, 26)\n",
      "y's shape = (522,)\n",
      "X's shape = (895, 5, 26)\n",
      "y's shape = (895,)\n",
      "X's shape = (85, 5, 26)\n",
      "y's shape = (85,)\n",
      "X's shape = (522, 5, 26)\n",
      "y's shape = (522,)\n"
     ]
    }
   ],
   "source": [
    "L = 5\n",
    "fold_data = []\n",
    "\n",
    "for (train_index, validation_index, test_index) in folds: \n",
    "    X_train = full_data[train_index, 1:]\n",
    "    y_train = full_data[train_index, -1]\n",
    "    X_val = full_data[validation_index, 1:]\n",
    "    y_val = full_data[validation_index, -1]\n",
    "    X_test = full_data[test_index, 1:]\n",
    "    y_test = full_data[test_index, -1]\n",
    "    scaler = StandardScaler()\n",
    "    X_train = scaler.fit_transform(X_train)\n",
    "    X_val = scaler.transform(X_val)\n",
    "    X_test = scaler.transform(X_test)\n",
    "    X_train, y_train = supervised_transformer((X_train, y_train), L)\n",
    "    X_val, y_val = supervised_transformer((X_val, y_val), L)\n",
    "    X_test, y_test = supervised_transformer((X_test, y_test), L)\n",
    "    fold_data.append({\n",
    "        'X_train': X_train, \n",
    "        'y_train': y_train,\n",
    "        'X_val': X_val, \n",
    "        'y_val': y_val, \n",
    "        'X_test': X_test, \n",
    "        'y_test': y_test\n",
    "    })"
   ]
  },
  {
   "attachments": {},
   "cell_type": "markdown",
   "metadata": {},
   "source": [
    "## Dimensionality reduction with LSTM-based autoencoder\n",
    "\n",
    "Financial time series data is generally more noisy than typical dataset. There are a number of denoising technique such as Principle Component Analysis(PCA), Exponential Smoothing, and other dimensionality reduction methods. Here we adopt LSTM-based autoencoder because LSTM captures the lookback property of the data we are dealing with and we do need some sort of long term memory as a way to encode previous days features. The idea of autoencoder is a neural network composed of two parts: Encoder and Decoder. Encoder takes a high dimensional input space and compress it through some layers into a lower dimensional hidden layer. Decoder reverses the process by taking the lower dimensional hidden layer reduced by Encoder and decompress it through some layers mirroring the dimension of the Encoder and restore the original input. This way, when the neural network forward passes to the lower dimensional space at the end of the Encoder, it does the dimensionality reduction and denoises the input data. The Decoder can be viewed as reconstructing the input through the lower dimension representation of the input. Training the autoencoder can be interpreted as dimensionality reduction that reaches the lowest reconstruction error. The following implementation is inspired [here](https://towardsdatascience.com/step-by-step-understanding-lstm-autoencoder-layers-ffab055b6352)"
   ]
  },
  {
   "attachments": {},
   "cell_type": "markdown",
   "metadata": {},
   "source": [
    "### `AutoEncoder`, `Encoder`, and `Decoder`"
   ]
  },
  {
   "cell_type": "code",
   "execution_count": 137,
   "metadata": {},
   "outputs": [],
   "source": [
    "from tensorflow.keras.models import Sequential\n",
    "from tensorflow.keras.layers import LSTM, Dense, RepeatVector, TimeDistributed\n",
    "import tensorflow as tf\n",
    "\n",
    "def build_model(hp):  \n",
    "    # TODO: hp.Fixed(\"L\", value=5) outside\n",
    "    h1 = hp.Int(\"h1\", min_value=64, max_value=128, step=16, default=64)\n",
    "    h2 = hp.Int(\"h2\", min_value=10, max_value=30, step=4, default=15)\n",
    "    l2_alpha = hp.Float(\"l2 alpha\", min_value=0.0001, max_value=1.0, sampling=\"log\")\n",
    "    L = hp.Choice(\"L\", values=[10, 20])\n",
    "    lr = hp.Float(\"learning-rate\", min_value=1e-6, max_value=1e-2, sampling=\"log\")\n",
    "    decay_rate = hp.Choice(\"decay-rate\", values=[0.9, 0.8])\n",
    "    args = {\n",
    "        \"h1\": h1, \n",
    "        \"h2\": h2, \n",
    "        \"l2 alpha\": l2_alpha, \n",
    "        \"L\": L, \n",
    "        \"learning-rate\": lr, \n",
    "        \"decay-rate\": decay_rate\n",
    "    }\n",
    "    return build_model_param(args)\n",
    "\n",
    "def build_model_param(args):  \n",
    "    # TODO: hp.Fixed(\"L\", value=5) outside\n",
    "    h1 = args[\"h1\"]\n",
    "    h2 = args[\"h2\"]\n",
    "    l2_alpha = args[\"l2 alpha\"]\n",
    "    L = args[\"L\"]\n",
    "    lr = args[\"learning-rate\"]\n",
    "    decay_rate = args[\"decay-rate\"]\n",
    "    lr_schedule = tf.keras.optimizers.schedules.ExponentialDecay(\n",
    "        initial_learning_rate=lr,\n",
    "        decay_steps=10000,\n",
    "        decay_rate=decay_rate)\n",
    "    optimizer = tf.keras.optimizers.Adam(learning_rate=lr_schedule)\n",
    "    encoder = Sequential([\n",
    "        LSTM(h1, activation='relu', input_shape=(L, 26), return_sequences=True, kernel_regularizer=tf.keras.regularizers.L2(l2_alpha)), \n",
    "        LSTM(h2, activation='relu', return_sequences=False)\n",
    "    ])\n",
    "    decoder = Sequential([\n",
    "        LSTM(h2, activation='relu', return_sequences=True), \n",
    "        LSTM(h1, activation='relu', return_sequences=True, kernel_regularizer=tf.keras.regularizers.L2(l2_alpha)), \n",
    "        TimeDistributed(Dense(26, kernel_regularizer=tf.keras.regularizers.L2(l2_alpha)))\n",
    "    ])\n",
    "    auto_encoder = Sequential([\n",
    "        encoder, \n",
    "        RepeatVector(L), \n",
    "        decoder\n",
    "    ])\n",
    "    auto_encoder.compile(optimizer=optimizer, loss=\"mse\", metrics=[tf.keras.metrics.RootMeanSquaredError(name=\"rmse\")])\n",
    "    print(\"Model built...\")\n",
    "    return auto_encoder"
   ]
  },
  {
   "attachments": {},
   "cell_type": "markdown",
   "metadata": {},
   "source": [
    "### Spec \n",
    "\n",
    "1. `loss_fn`: **mean squared error**\n",
    "2. `metrics`: **root mean squared error**\n",
    "    - The reason for choosing `rmse` as the metrics is that it does not penalize outliers as much as `mse` which prevents from fitting too much to the outliers.\n",
    "3. `optimizer`: **`Adam`**\n",
    "4. Hyperparameter space \n",
    "    - `h1`: Dimension of the first hidden layer of encoder\n",
    "    - `h2`: Dimension of the second hidden layer of encoder \n",
    "    - `lr`: Learning rate \n",
    "    - `l2 alpha`: Alpha for `l2` regularization\n",
    "    - `decay rate`: decay rate for exponential learining rate scheduling\n",
    "    - `L`: lookback period (number of days)\n",
    "3. Model summary (see below)\n",
    "    - AUTOENCODER summary contains three layers \n",
    "        1. Encoder which is summarized further below\n",
    "        2. `RepeatVector` that repeats the output of the encoder because by exactly `L` times \n",
    "        3. Decoder which is summarized further below\n",
    "    - ENCODER summary contains two layers \n",
    "        1. `LSTM(h1)`\n",
    "        2. `LSTM(h2)`\n",
    "    - DECODER summary contains three layers \n",
    "        1. `LSTM(h2)`\n",
    "        2. `LSTM(h1)`\n",
    "        3. `TimeDistributed` to distribute to timesteps for reconstruction"
   ]
  },
  {
   "cell_type": "code",
   "execution_count": 138,
   "metadata": {},
   "outputs": [
    {
     "name": "stderr",
     "output_type": "stream",
     "text": [
      "WARNING:absl:At this time, the v2.11+ optimizer `tf.keras.optimizers.Adam` runs slowly on M1/M2 Macs, please use the legacy Keras optimizer instead, located at `tf.keras.optimizers.legacy.Adam`.\n",
      "WARNING:absl:There is a known slowdown when using v2.11+ Keras optimizers on M1/M2 Macs. Falling back to the legacy Keras optimizer, i.e., `tf.keras.optimizers.legacy.Adam`.\n"
     ]
    },
    {
     "name": "stdout",
     "output_type": "stream",
     "text": [
      "Model built...\n",
      "=====AUTOENCODER SUMMARY=====\n",
      "Model: \"sequential_5\"\n",
      "_________________________________________________________________\n",
      " Layer (type)                Output Shape              Param #   \n",
      "=================================================================\n",
      " sequential_3 (Sequential)   (None, 64)                128768    \n",
      "                                                                 \n",
      " repeat_vector_1 (RepeatVec  (None, 5, 64)             0         \n",
      " tor)                                                            \n",
      "                                                                 \n",
      " sequential_4 (Sequential)   (None, 5, 26)             135194    \n",
      "                                                                 \n",
      "=================================================================\n",
      "Total params: 263962 (1.01 MB)\n",
      "Trainable params: 263962 (1.01 MB)\n",
      "Non-trainable params: 0 (0.00 Byte)\n",
      "_________________________________________________________________\n",
      "None\n",
      "=====ENCODER SUMMARY=====\n",
      "Model: \"sequential_3\"\n",
      "_________________________________________________________________\n",
      " Layer (type)                Output Shape              Param #   \n",
      "=================================================================\n",
      " lstm_4 (LSTM)               (None, 5, 128)            79360     \n",
      "                                                                 \n",
      " lstm_5 (LSTM)               (None, 64)                49408     \n",
      "                                                                 \n",
      "=================================================================\n",
      "Total params: 128768 (503.00 KB)\n",
      "Trainable params: 128768 (503.00 KB)\n",
      "Non-trainable params: 0 (0.00 Byte)\n",
      "_________________________________________________________________\n",
      "None\n",
      "=====DECODER SUMMARY=====\n",
      "Model: \"sequential_4\"\n",
      "_________________________________________________________________\n",
      " Layer (type)                Output Shape              Param #   \n",
      "=================================================================\n",
      " lstm_6 (LSTM)               (None, 5, 64)             33024     \n",
      "                                                                 \n",
      " lstm_7 (LSTM)               (None, 5, 128)            98816     \n",
      "                                                                 \n",
      " time_distributed_1 (TimeDi  (None, 5, 26)             3354      \n",
      " stributed)                                                      \n",
      "                                                                 \n",
      "=================================================================\n",
      "Total params: 135194 (528.10 KB)\n",
      "Trainable params: 135194 (528.10 KB)\n",
      "Non-trainable params: 0 (0.00 Byte)\n",
      "_________________________________________________________________\n",
      "None\n"
     ]
    }
   ],
   "source": [
    "model = build_model_param({\n",
    "    \"h1\": 128, \n",
    "    \"h2\": 64, \n",
    "    \"learning-rate\": 0.001, \n",
    "    \"l2 alpha\": 0.02, \n",
    "    \"decay-rate\": 1e-5, \n",
    "    \"L\": 5\n",
    "})\n",
    "print(\"=====AUTOENCODER SUMMARY=====\")\n",
    "print(model.summary())\n",
    "print(\"=====ENCODER SUMMARY=====\")\n",
    "print(model.layers[0].summary())\n",
    "print(\"=====DECODER SUMMARY=====\")\n",
    "print(model.layers[2].summary())"
   ]
  },
  {
   "attachments": {},
   "cell_type": "markdown",
   "metadata": {},
   "source": [
    "### Hyperparameter Search\n",
    "\n",
    "The hyperparameters involved include the hidden layer sizes `h1, h2`, learning-rate, `alpha` for `L2 regularization`. Here we use `GridSearch` to look for a good set of configuration."
   ]
  },
  {
   "cell_type": "code",
   "execution_count": 143,
   "metadata": {},
   "outputs": [],
   "source": [
    "X_train, X_val, X_test = fold_data[0][\"X_train\"], fold_data[0][\"X_val\"], fold_data[0][\"X_test\"] "
   ]
  },
  {
   "cell_type": "code",
   "execution_count": 144,
   "metadata": {},
   "outputs": [
    {
     "name": "stdout",
     "output_type": "stream",
     "text": [
      "Trial 20 Complete [00h 00m 10s]\n",
      "val_rmse: 1.0219486951828003\n",
      "\n",
      "Best val_rmse So Far: 0.7706052660942078\n",
      "Total elapsed time: 00h 03m 12s\n",
      "INFO:tensorflow:Oracle triggered exit\n"
     ]
    },
    {
     "name": "stderr",
     "output_type": "stream",
     "text": [
      "INFO:tensorflow:Oracle triggered exit\n"
     ]
    }
   ],
   "source": [
    "import keras_tuner \n",
    "\n",
    "hp = keras_tuner.HyperParameters()\n",
    "\n",
    "hp.Fixed(\"L\", 5)\n",
    "\n",
    "tuner = keras_tuner.GridSearch(\n",
    "    build_model, \n",
    "    hyperparameters=hp, \n",
    "    objective=keras_tuner.Objective(name=\"val_rmse\", direction=\"min\"), \n",
    "    max_trials=20, \n",
    "    overwrite=True,\n",
    "    directory=\"tmp/tb\"\n",
    ")\n",
    "\n",
    "tuner.search(X_train, X_train, epochs=60, validation_data=(X_val, X_val), callbacks=[tf.keras.callbacks.TensorBoard(\"tmp/tb_logs\")])"
   ]
  },
  {
   "attachments": {},
   "cell_type": "markdown",
   "metadata": {},
   "source": [
    "### Visualize hyperparameter search with `tensorboard`"
   ]
  },
  {
   "cell_type": "code",
   "execution_count": 76,
   "metadata": {},
   "outputs": [
    {
     "name": "stdout",
     "output_type": "stream",
     "text": [
      "Serving TensorBoard on localhost; to expose to the network, use a proxy or pass --bind_all\n",
      "TensorBoard 2.13.0 at http://localhost:6071/ (Press CTRL+C to quit)\n",
      "^C\n"
     ]
    }
   ],
   "source": [
    "# See tensorboard for hyperparameters visualization\n",
    "!tensorboard --logdir tmp/tb_logs --port 6071"
   ]
  },
  {
   "attachments": {},
   "cell_type": "markdown",
   "metadata": {},
   "source": [
    "### Learning Curve"
   ]
  },
  {
   "cell_type": "code",
   "execution_count": 145,
   "metadata": {},
   "outputs": [
    {
     "name": "stderr",
     "output_type": "stream",
     "text": [
      "WARNING:absl:At this time, the v2.11+ optimizer `tf.keras.optimizers.Adam` runs slowly on M1/M2 Macs, please use the legacy Keras optimizer instead, located at `tf.keras.optimizers.legacy.Adam`.\n",
      "WARNING:absl:There is a known slowdown when using v2.11+ Keras optimizers on M1/M2 Macs. Falling back to the legacy Keras optimizer, i.e., `tf.keras.optimizers.legacy.Adam`.\n"
     ]
    },
    {
     "name": "stdout",
     "output_type": "stream",
     "text": [
      "Model built...\n",
      "Epoch 1/60\n",
      "20/20 [==============================] - 2s 20ms/step - loss: 0.8786 - rmse: 0.9327 - val_loss: 1.3852 - val_rmse: 1.1736\n",
      "Epoch 2/60\n",
      "20/20 [==============================] - 0s 5ms/step - loss: 0.5893 - rmse: 0.7622 - val_loss: 1.2430 - val_rmse: 1.1109\n",
      "Epoch 3/60\n",
      "20/20 [==============================] - 0s 5ms/step - loss: 0.4156 - rmse: 0.6376 - val_loss: 1.1819 - val_rmse: 1.0828\n",
      "Epoch 4/60\n",
      "20/20 [==============================] - 0s 5ms/step - loss: 0.2964 - rmse: 0.5354 - val_loss: 1.0259 - val_rmse: 1.0080\n",
      "Epoch 5/60\n",
      "20/20 [==============================] - 0s 6ms/step - loss: 0.2478 - rmse: 0.4875 - val_loss: 1.1548 - val_rmse: 1.0699\n",
      "Epoch 6/60\n",
      "20/20 [==============================] - 0s 6ms/step - loss: 0.2216 - rmse: 0.4597 - val_loss: 1.1238 - val_rmse: 1.0552\n",
      "Epoch 7/60\n",
      "20/20 [==============================] - 0s 5ms/step - loss: 0.2066 - rmse: 0.4431 - val_loss: 1.1339 - val_rmse: 1.0600\n",
      "Epoch 8/60\n",
      "20/20 [==============================] - 0s 6ms/step - loss: 0.1919 - rmse: 0.4261 - val_loss: 1.2091 - val_rmse: 1.0949\n",
      "Epoch 9/60\n",
      "20/20 [==============================] - 0s 6ms/step - loss: 0.1775 - rmse: 0.4087 - val_loss: 1.0159 - val_rmse: 1.0027\n",
      "Epoch 10/60\n",
      "20/20 [==============================] - 0s 6ms/step - loss: 0.1656 - rmse: 0.3939 - val_loss: 1.0332 - val_rmse: 1.0113\n",
      "Epoch 11/60\n",
      "20/20 [==============================] - 0s 7ms/step - loss: 0.1583 - rmse: 0.3846 - val_loss: 1.0943 - val_rmse: 1.0411\n",
      "Epoch 12/60\n",
      "20/20 [==============================] - 0s 6ms/step - loss: 0.2076 - rmse: 0.4437 - val_loss: 1.1281 - val_rmse: 1.0568\n",
      "Epoch 13/60\n",
      "20/20 [==============================] - 0s 6ms/step - loss: 0.1978 - rmse: 0.4318 - val_loss: 1.1125 - val_rmse: 1.0493\n",
      "Epoch 14/60\n",
      "20/20 [==============================] - 0s 6ms/step - loss: 0.1663 - rmse: 0.3933 - val_loss: 1.0638 - val_rmse: 1.0257\n",
      "Epoch 15/60\n",
      "20/20 [==============================] - 0s 6ms/step - loss: 0.1509 - rmse: 0.3732 - val_loss: 1.0555 - val_rmse: 1.0218\n",
      "Epoch 16/60\n",
      "20/20 [==============================] - 0s 6ms/step - loss: 0.1414 - rmse: 0.3605 - val_loss: 1.2691 - val_rmse: 1.1215\n",
      "Epoch 17/60\n",
      "20/20 [==============================] - 0s 6ms/step - loss: 0.1353 - rmse: 0.3520 - val_loss: 1.2008 - val_rmse: 1.0906\n",
      "Epoch 18/60\n",
      "20/20 [==============================] - 0s 6ms/step - loss: 0.1294 - rmse: 0.3437 - val_loss: 1.2914 - val_rmse: 1.1314\n",
      "Epoch 19/60\n",
      "20/20 [==============================] - 0s 6ms/step - loss: 0.1231 - rmse: 0.3346 - val_loss: 1.2735 - val_rmse: 1.1236\n",
      "Epoch 20/60\n",
      "20/20 [==============================] - 0s 5ms/step - loss: 0.1207 - rmse: 0.3310 - val_loss: 1.2314 - val_rmse: 1.1047\n",
      "Epoch 21/60\n",
      "20/20 [==============================] - 0s 5ms/step - loss: 0.1165 - rmse: 0.3248 - val_loss: 1.2467 - val_rmse: 1.1116\n",
      "Epoch 22/60\n",
      "20/20 [==============================] - 0s 6ms/step - loss: 0.1111 - rmse: 0.3165 - val_loss: 1.1562 - val_rmse: 1.0702\n",
      "Epoch 23/60\n",
      "20/20 [==============================] - 0s 5ms/step - loss: 0.1140 - rmse: 0.3213 - val_loss: 1.1554 - val_rmse: 1.0699\n",
      "Epoch 24/60\n",
      "20/20 [==============================] - 0s 6ms/step - loss: 0.1098 - rmse: 0.3148 - val_loss: 1.1841 - val_rmse: 1.0832\n",
      "Epoch 25/60\n",
      "20/20 [==============================] - 0s 6ms/step - loss: 0.1038 - rmse: 0.3052 - val_loss: 1.2356 - val_rmse: 1.1068\n",
      "Epoch 26/60\n",
      "20/20 [==============================] - 0s 5ms/step - loss: 0.1023 - rmse: 0.3030 - val_loss: 1.1740 - val_rmse: 1.0787\n",
      "Epoch 27/60\n",
      "20/20 [==============================] - 0s 6ms/step - loss: 0.1037 - rmse: 0.3055 - val_loss: 1.1906 - val_rmse: 1.0864\n",
      "Epoch 28/60\n",
      "20/20 [==============================] - 0s 5ms/step - loss: 0.1008 - rmse: 0.3010 - val_loss: 1.2231 - val_rmse: 1.1013\n",
      "Epoch 29/60\n",
      "20/20 [==============================] - 0s 5ms/step - loss: 0.0951 - rmse: 0.2915 - val_loss: 1.1991 - val_rmse: 1.0904\n",
      "Epoch 30/60\n",
      "20/20 [==============================] - 0s 5ms/step - loss: 0.0956 - rmse: 0.2926 - val_loss: 1.1762 - val_rmse: 1.0799\n",
      "Epoch 31/60\n",
      "20/20 [==============================] - 0s 5ms/step - loss: 0.0947 - rmse: 0.2911 - val_loss: 1.2174 - val_rmse: 1.0989\n",
      "Epoch 32/60\n",
      "20/20 [==============================] - 0s 6ms/step - loss: 0.0985 - rmse: 0.2977 - val_loss: 1.2197 - val_rmse: 1.1000\n",
      "Epoch 33/60\n",
      "20/20 [==============================] - 0s 5ms/step - loss: 0.1288 - rmse: 0.3449 - val_loss: 1.2634 - val_rmse: 1.1196\n",
      "Epoch 34/60\n",
      "20/20 [==============================] - 0s 6ms/step - loss: 0.1161 - rmse: 0.3256 - val_loss: 1.1766 - val_rmse: 1.0800\n",
      "Epoch 35/60\n",
      "20/20 [==============================] - 0s 6ms/step - loss: 0.1014 - rmse: 0.3020 - val_loss: 1.1767 - val_rmse: 1.0801\n",
      "Epoch 36/60\n",
      "20/20 [==============================] - 0s 5ms/step - loss: 0.1007 - rmse: 0.3010 - val_loss: 1.2491 - val_rmse: 1.1131\n",
      "Epoch 37/60\n",
      "20/20 [==============================] - 0s 5ms/step - loss: 0.1050 - rmse: 0.3080 - val_loss: 1.1258 - val_rmse: 1.0563\n",
      "Epoch 38/60\n",
      "20/20 [==============================] - 0s 6ms/step - loss: 0.0960 - rmse: 0.2931 - val_loss: 1.2437 - val_rmse: 1.1107\n",
      "Epoch 39/60\n",
      "20/20 [==============================] - 0s 6ms/step - loss: 0.0927 - rmse: 0.2874 - val_loss: 1.2135 - val_rmse: 1.0970\n",
      "Epoch 40/60\n",
      "20/20 [==============================] - 0s 6ms/step - loss: 0.0893 - rmse: 0.2816 - val_loss: 1.2851 - val_rmse: 1.1292\n",
      "Epoch 41/60\n",
      "20/20 [==============================] - 0s 5ms/step - loss: 0.0841 - rmse: 0.2724 - val_loss: 1.2588 - val_rmse: 1.1176\n",
      "Epoch 42/60\n",
      "20/20 [==============================] - 0s 5ms/step - loss: 0.0842 - rmse: 0.2729 - val_loss: 1.1722 - val_rmse: 1.0782\n",
      "Epoch 43/60\n",
      "20/20 [==============================] - 0s 6ms/step - loss: 0.0806 - rmse: 0.2664 - val_loss: 1.1666 - val_rmse: 1.0756\n",
      "Epoch 44/60\n",
      "20/20 [==============================] - 0s 6ms/step - loss: 0.0842 - rmse: 0.2732 - val_loss: 1.2270 - val_rmse: 1.1034\n",
      "Epoch 45/60\n",
      "20/20 [==============================] - 0s 6ms/step - loss: 0.0801 - rmse: 0.2659 - val_loss: 1.2046 - val_rmse: 1.0932\n",
      "Epoch 46/60\n",
      "20/20 [==============================] - 0s 5ms/step - loss: 0.0816 - rmse: 0.2688 - val_loss: 1.2109 - val_rmse: 1.0961\n",
      "Epoch 47/60\n",
      "20/20 [==============================] - 0s 6ms/step - loss: 0.0796 - rmse: 0.2650 - val_loss: 1.2627 - val_rmse: 1.1195\n",
      "Epoch 48/60\n",
      "20/20 [==============================] - 0s 6ms/step - loss: 0.0773 - rmse: 0.2607 - val_loss: 1.2338 - val_rmse: 1.1066\n",
      "Epoch 49/60\n",
      "20/20 [==============================] - 0s 7ms/step - loss: 0.0764 - rmse: 0.2593 - val_loss: 1.3018 - val_rmse: 1.1370\n",
      "Epoch 50/60\n",
      "20/20 [==============================] - 0s 6ms/step - loss: 0.0782 - rmse: 0.2627 - val_loss: 1.2471 - val_rmse: 1.1126\n",
      "Epoch 51/60\n",
      "20/20 [==============================] - 0s 6ms/step - loss: 0.0877 - rmse: 0.2803 - val_loss: 1.2820 - val_rmse: 1.1282\n",
      "Epoch 52/60\n",
      "20/20 [==============================] - 0s 6ms/step - loss: 0.0797 - rmse: 0.2657 - val_loss: 1.2536 - val_rmse: 1.1156\n",
      "Epoch 53/60\n",
      "20/20 [==============================] - 0s 6ms/step - loss: 0.0780 - rmse: 0.2625 - val_loss: 1.3432 - val_rmse: 1.1551\n",
      "Epoch 54/60\n",
      "20/20 [==============================] - 0s 6ms/step - loss: 0.0737 - rmse: 0.2544 - val_loss: 1.3146 - val_rmse: 1.1427\n",
      "Epoch 55/60\n",
      "20/20 [==============================] - 0s 5ms/step - loss: 0.0729 - rmse: 0.2530 - val_loss: 1.2979 - val_rmse: 1.1354\n",
      "Epoch 56/60\n",
      "20/20 [==============================] - 0s 5ms/step - loss: 0.0696 - rmse: 0.2465 - val_loss: 1.2700 - val_rmse: 1.1230\n",
      "Epoch 57/60\n",
      "20/20 [==============================] - 0s 5ms/step - loss: 0.0720 - rmse: 0.2516 - val_loss: 1.2477 - val_rmse: 1.1131\n",
      "Epoch 58/60\n",
      "20/20 [==============================] - 0s 5ms/step - loss: 0.0774 - rmse: 0.2621 - val_loss: 1.3033 - val_rmse: 1.1378\n",
      "Epoch 59/60\n",
      "20/20 [==============================] - 0s 6ms/step - loss: 0.0746 - rmse: 0.2567 - val_loss: 1.2379 - val_rmse: 1.1087\n",
      "Epoch 60/60\n",
      "20/20 [==============================] - 0s 5ms/step - loss: 0.0723 - rmse: 0.2522 - val_loss: 1.2569 - val_rmse: 1.1173\n",
      "{'L': 5, 'h1': 64, 'h2': 15, 'l2 alpha': 0.0001, 'learning-rate': 0.006309573444801936, 'decay-rate': 0.8}\n"
     ]
    },
    {
     "data": {
      "image/png": "[encoded data removed]",
      "text/plain": [
       "<Figure size 640x480 with 1 Axes>"
      ]
     },
     "metadata": {},
     "output_type": "display_data"
    }
   ],
   "source": [
    "import matplotlib.pyplot as plt \n",
    "# Retrain the best model to get history\n",
    "args = tuner.get_best_hyperparameters()[0]\n",
    "model = build_model_param(args)\n",
    "run = model.fit(X_train, X_train, validation_data=(X_val, X_val), epochs=60)\n",
    "train_history = run.history[\"loss\"]\n",
    "val_history = run.history[\"val_loss\"]\n",
    "# Plot the learning curve\n",
    "plt.plot(train_history, label='train loss')\n",
    "plt.plot(val_history, label='validation loss')\n",
    "print(args.values)"
   ]
  },
  {
   "attachments": {},
   "cell_type": "markdown",
   "metadata": {},
   "source": [
    "### Comparison with `PCA`\n",
    "\n",
    "We compare this dimensionality reduction with a typical dimensionality reduction approach `PCA` based on the reconstruction error in terms of `rmse` on validation set."
   ]
  },
  {
   "cell_type": "code",
   "execution_count": 146,
   "metadata": {},
   "outputs": [
    {
     "name": "stdout",
     "output_type": "stream",
     "text": [
      "(85, 15)\n",
      "(85, 130)\n",
      "RMSE of reconstruction error with PCA reduction = 0.27300160290981107\n",
      "WARNING:tensorflow:Detecting that an object or model or tf.train.Checkpoint is being deleted with unrestored values. See the following logs for the specific values in question. To silence these warnings, use `status.expect_partial()`. See https://www.tensorflow.org/api_docs/python/tf/train/Checkpoint#restorefor details about the status object returned by the restore function.\n"
     ]
    },
    {
     "name": "stderr",
     "output_type": "stream",
     "text": [
      "WARNING:tensorflow:Detecting that an object or model or tf.train.Checkpoint is being deleted with unrestored values. See the following logs for the specific values in question. To silence these warnings, use `status.expect_partial()`. See https://www.tensorflow.org/api_docs/python/tf/train/Checkpoint#restorefor details about the status object returned by the restore function.\n"
     ]
    },
    {
     "name": "stdout",
     "output_type": "stream",
     "text": [
      "WARNING:tensorflow:Value in checkpoint could not be found in the restored object: (root).optimizer.iter\n"
     ]
    },
    {
     "name": "stderr",
     "output_type": "stream",
     "text": [
      "WARNING:tensorflow:Value in checkpoint could not be found in the restored object: (root).optimizer.iter\n"
     ]
    },
    {
     "name": "stdout",
     "output_type": "stream",
     "text": [
      "WARNING:tensorflow:Value in checkpoint could not be found in the restored object: (root).optimizer.beta_1\n"
     ]
    },
    {
     "name": "stderr",
     "output_type": "stream",
     "text": [
      "WARNING:tensorflow:Value in checkpoint could not be found in the restored object: (root).optimizer.beta_1\n"
     ]
    },
    {
     "name": "stdout",
     "output_type": "stream",
     "text": [
      "WARNING:tensorflow:Value in checkpoint could not be found in the restored object: (root).optimizer.beta_2\n"
     ]
    },
    {
     "name": "stderr",
     "output_type": "stream",
     "text": [
      "WARNING:tensorflow:Value in checkpoint could not be found in the restored object: (root).optimizer.beta_2\n"
     ]
    },
    {
     "name": "stdout",
     "output_type": "stream",
     "text": [
      "WARNING:tensorflow:Value in checkpoint could not be found in the restored object: (root).optimizer.decay\n"
     ]
    },
    {
     "name": "stderr",
     "output_type": "stream",
     "text": [
      "WARNING:tensorflow:Value in checkpoint could not be found in the restored object: (root).optimizer.decay\n",
      "WARNING:absl:At this time, the v2.11+ optimizer `tf.keras.optimizers.Adam` runs slowly on M1/M2 Macs, please use the legacy Keras optimizer instead, located at `tf.keras.optimizers.legacy.Adam`.\n",
      "WARNING:absl:There is a known slowdown when using v2.11+ Keras optimizers on M1/M2 Macs. Falling back to the legacy Keras optimizer, i.e., `tf.keras.optimizers.legacy.Adam`.\n"
     ]
    },
    {
     "name": "stdout",
     "output_type": "stream",
     "text": [
      "Model built...\n",
      "3/3 [==============================] - 0s 2ms/step\n",
      "(85, 130)\n",
      "RMSE of reconstruction error with autoencoder reduction = 0.6777414230480353\n"
     ]
    }
   ],
   "source": [
    "from sklearn.decomposition import PCA\n",
    "from sklearn.metrics import mean_squared_error\n",
    "# Build PCA \n",
    "h2 = args[\"h2\"]\n",
    "pca = PCA(n_components=h2)\n",
    "pca.fit(X_train.reshape((X_train.shape[0], -1)))\n",
    "X_val_pca_red = pca.transform(X_val.reshape((X_val.shape[0], -1)))\n",
    "print(X_val_pca_red.shape)\n",
    "X_val_pca_rec = pca.inverse_transform(X_val_pca_red)\n",
    "print(X_val_pca_rec.shape)\n",
    "print(f\"RMSE of reconstruction error with PCA reduction = {mean_squared_error(X_val_pca_rec, X_val.reshape(X_val.shape[0], -1), squared=False)}\")\n",
    "# Build autoencoder\n",
    "model = tuner.get_best_models()[0]\n",
    "X_val_auto_rec = model.predict(X_val).reshape((X_val.shape[0], -1))\n",
    "print(X_val_auto_rec.shape)\n",
    "print(f\"RMSE of reconstruction error with autoencoder reduction = {mean_squared_error(X_val_auto_rec, X_val.reshape(X_val.shape[0], -1), squared=False)}\")"
   ]
  },
  {
   "attachments": {},
   "cell_type": "markdown",
   "metadata": {},
   "source": [
    "We notice that `PCA` achieve better reconstruction error with the same dimensionality as our best `AutoEncoder`, so we adopt both and further compare them in the subsequent prediction performance."
   ]
  },
  {
   "attachments": {},
   "cell_type": "markdown",
   "metadata": {},
   "source": [
    "### Additional Processing for normalization idea from `NLinear`\n",
    "\n",
    "The idea of `NLinear` is a single linear layer with an additional step to \"normalize\" the prediction. Given an input, we first subtract all target variable in the lookback period ($y_t, y_{t+1}, ..., y_{t+L-1}$ in $X$ where $L$ is the number of days in the lookback period) by the most recent target variable ($y_{t+L-1}$) in the lookback period. In our case, we'll be subtracting the all `20-day return` in the feature space by the most recent `20-day return` in the lookback period. Then, we add the most recent target variable ($y_{t+L-1}$) back to the prediction $\\hat{y}$. However, since we perform feature extraction through `AutoEncoder` in the previous step, we append the feature of `20-day return` explicitly back to the feature space after extraction."
   ]
  },
  {
   "cell_type": "code",
   "execution_count": null,
   "metadata": {},
   "outputs": [
    {
     "ename": "AttributeError",
     "evalue": "'NLinear' object has no attribute 'encoder'",
     "output_type": "error",
     "traceback": [
      "\u001b[0;31m---------------------------------------------------------------------------\u001b[0m",
      "\u001b[0;31mAttributeError\u001b[0m                            Traceback (most recent call last)",
      "Cell \u001b[0;32mIn[138], line 15\u001b[0m\n\u001b[1;32m     12\u001b[0m     \u001b[39mreturn\u001b[39;00m np\u001b[39m.\u001b[39mconcatenate([X_reduced, lookback_20d_ret], axis\u001b[39m=\u001b[39m\u001b[39m1\u001b[39m)\n\u001b[1;32m     14\u001b[0m \u001b[39mfor\u001b[39;00m i, fold \u001b[39min\u001b[39;00m \u001b[39menumerate\u001b[39m(fold_data): \n\u001b[0;32m---> 15\u001b[0m     X_train \u001b[39m=\u001b[39m feature_processing(fold[\u001b[39m'\u001b[39;49m\u001b[39mX_train\u001b[39;49m\u001b[39m'\u001b[39;49m], model)\n\u001b[1;32m     16\u001b[0m     X_val \u001b[39m=\u001b[39m feature_processing(fold[\u001b[39m'\u001b[39m\u001b[39mX_val\u001b[39m\u001b[39m'\u001b[39m], model)\n\u001b[1;32m     17\u001b[0m     X_test\u001b[39m=\u001b[39m feature_processing(fold[\u001b[39m'\u001b[39m\u001b[39mX_test\u001b[39m\u001b[39m'\u001b[39m], model)\n",
      "Cell \u001b[0;32mIn[138], line 11\u001b[0m, in \u001b[0;36mfeature_processing\u001b[0;34m(X, model)\u001b[0m\n\u001b[1;32m      3\u001b[0m \u001b[39m'''\u001b[39;00m\n\u001b[1;32m      4\u001b[0m \u001b[39mReduce dimensionality by using the model's encoder and append 20d return in the lookback period back to the reduced feature\u001b[39;00m\n\u001b[1;32m      5\u001b[0m \u001b[39mspace\u001b[39;00m\n\u001b[0;32m   (...)\u001b[0m\n\u001b[1;32m      8\u001b[0m \u001b[39m    X - np.ndarray with shape (n, L, d)\u001b[39;00m\n\u001b[1;32m      9\u001b[0m \u001b[39m'''\u001b[39;00m \n\u001b[1;32m     10\u001b[0m lookback_20d_ret \u001b[39m=\u001b[39m X[:, :, \u001b[39m-\u001b[39m\u001b[39m1\u001b[39m]\n\u001b[0;32m---> 11\u001b[0m X_reduced \u001b[39m=\u001b[39m model\u001b[39m.\u001b[39;49mencoder(X)\n\u001b[1;32m     12\u001b[0m \u001b[39mreturn\u001b[39;00m np\u001b[39m.\u001b[39mconcatenate([X_reduced, lookback_20d_ret], axis\u001b[39m=\u001b[39m\u001b[39m1\u001b[39m)\n",
      "\u001b[0;31mAttributeError\u001b[0m: 'NLinear' object has no attribute 'encoder'"
     ]
    }
   ],
   "source": [
    "# Feature extraction for all folds \n",
    "def feature_processing(X, model): \n",
    "    '''\n",
    "    Reduce dimensionality by using the model's encoder and append 20d return in the lookback period back to the reduced feature\n",
    "    space\n",
    "\n",
    "    Args: \n",
    "        X - np.ndarray with shape (n, L, d)\n",
    "    ''' \n",
    "    lookback_20d_ret = X[:, :, -1]\n",
    "    X_reduced = model.encoder(X)\n",
    "    return np.concatenate([X_reduced, lookback_20d_ret], axis=1)\n",
    "\n",
    "for i, fold in enumerate(fold_data): \n",
    "    X_train = feature_processing(fold['X_train'], model)\n",
    "    X_val = feature_processing(fold['X_val'], model)\n",
    "    X_test= feature_processing(fold['X_test'], model)\n",
    "    fold_data[i]['X_train'] = X_train \n",
    "    fold_data[i]['X_val'] = X_val \n",
    "    fold_data[i]['X_test'] = X_test\n",
    "    print(type(X_train))\n"
   ]
  },
  {
   "attachments": {},
   "cell_type": "markdown",
   "metadata": {},
   "source": [
    "## Train Linear Model"
   ]
  },
  {
   "attachments": {},
   "cell_type": "markdown",
   "metadata": {},
   "source": [
    "### MLP"
   ]
  },
  {
   "cell_type": "code",
   "execution_count": null,
   "metadata": {},
   "outputs": [],
   "source": [
    "from tensorflow.keras.layers import Dropout\n",
    "\n",
    "def build_mlp(hp): \n",
    "    h1 = hp.Int()\n",
    "def build_mlp_param(args): \n",
    "    h1 = args[\"h1\"]\n",
    "    h2 = args[\"h2\"]\n",
    "    p1 = args[\"p1\"]\n",
    "    l2_alpha = args[\"l2 alpha\"]\n",
    "    L = args[\"L\"]\n",
    "    lr = args[\"learning-rate\"]\n",
    "    decay_rate = args[\"decay-rate\"]\n",
    "    lr_schedule = tf.keras.optimizers.schedules.ExponentialDecay(\n",
    "        initial_learning_rate=lr,\n",
    "        decay_steps=10000,\n",
    "        decay_rate=decay_rate)\n",
    "    optimizer = tf.keras.optimizers.Adam(learning_rate=lr_schedule)\n",
    "    model = Sequential([\n",
    "        Dense(h1, activation='relu', kernel_initializer='he_normal'), \n",
    "        Dropout(p1),\n",
    "        Dense(h2, activation='relu', kernel_initializer='he_normal'),\n",
    "        Dense(1)\n",
    "    ])\n",
    "    model.compile(optimizer=optimizer, loss=\"mse\")\n",
    "    return model\n",
    "    "
   ]
  },
  {
   "cell_type": "markdown",
   "metadata": {},
   "source": [
    "### Training"
   ]
  },
  {
   "cell_type": "code",
   "execution_count": null,
   "metadata": {},
   "outputs": [
    {
     "name": "stderr",
     "output_type": "stream",
     "text": [
      "WARNING:absl:At this time, the v2.11+ optimizer `tf.keras.optimizers.Adam` runs slowly on M1/M2 Macs, please use the legacy Keras optimizer instead, located at `tf.keras.optimizers.legacy.Adam`.\n",
      "WARNING:absl:At this time, the v2.11+ optimizer `tf.keras.optimizers.Adam` runs slowly on M1/M2 Macs, please use the legacy Keras optimizer instead, located at `tf.keras.optimizers.legacy.Adam`.\n"
     ]
    },
    {
     "name": "stdout",
     "output_type": "stream",
     "text": [
      "Start of 1 epoch\n",
      "Train MSE = 13.222739219665527\n",
      "Validation MSE = 5.967293739318848\n",
      "\n",
      "Start of 2 epoch\n",
      "Train MSE = 4.171525478363037\n",
      "Validation MSE = 1.5182253122329712\n",
      "\n",
      "Start of 3 epoch\n",
      "Train MSE = 7.098983287811279\n",
      "Validation MSE = 1.0014803409576416\n",
      "\n",
      "Start of 4 epoch\n",
      "Train MSE = 4.323248386383057\n",
      "Validation MSE = 0.650021493434906\n",
      "\n",
      "Start of 5 epoch\n",
      "Train MSE = 1.838037133216858\n",
      "Validation MSE = 0.5228445529937744\n",
      "\n",
      "Start of 6 epoch\n",
      "Train MSE = 1.2099978923797607\n",
      "Validation MSE = 0.5144568085670471\n",
      "\n",
      "Start of 7 epoch\n",
      "Train MSE = 2.8364474773406982\n",
      "Validation MSE = 0.4799685478210449\n",
      "\n",
      "Start of 8 epoch\n",
      "Train MSE = 3.9029746055603027\n",
      "Validation MSE = 0.34745582938194275\n",
      "\n",
      "Start of 9 epoch\n",
      "Train MSE = 3.013904094696045\n",
      "Validation MSE = 0.3780096769332886\n",
      "\n",
      "Start of 10 epoch\n",
      "Train MSE = 1.6448111534118652\n",
      "Validation MSE = 0.30627354979515076\n",
      "\n",
      "Start of 11 epoch\n",
      "Train MSE = 0.6456000208854675\n",
      "Validation MSE = 0.4224480092525482\n",
      "\n",
      "Start of 12 epoch\n",
      "Train MSE = 0.4567742943763733\n",
      "Validation MSE = 0.7470123171806335\n",
      "\n",
      "Start of 13 epoch\n",
      "Train MSE = 0.9707103967666626\n",
      "Validation MSE = 0.5671466588973999\n",
      "\n",
      "Start of 14 epoch\n",
      "Train MSE = 1.2333359718322754\n",
      "Validation MSE = 0.19120310246944427\n",
      "\n",
      "Start of 15 epoch\n",
      "Train MSE = 0.9849863052368164\n",
      "Validation MSE = 0.3202540874481201\n",
      "\n",
      "Start of 16 epoch\n",
      "Train MSE = 0.6474066376686096\n",
      "Validation MSE = 0.6762058138847351\n",
      "\n",
      "Start of 17 epoch\n",
      "Train MSE = 0.4378332197666168\n",
      "Validation MSE = 0.7884455323219299\n",
      "\n",
      "Start of 18 epoch\n",
      "Train MSE = 0.4995128810405731\n",
      "Validation MSE = 0.7405912280082703\n",
      "\n",
      "Start of 19 epoch\n",
      "Train MSE = 0.7852614521980286\n",
      "Validation MSE = 0.7110137939453125\n",
      "\n",
      "Start of 20 epoch\n",
      "Train MSE = 0.8934451937675476\n",
      "Validation MSE = 0.6772059798240662\n",
      "\n",
      "Start of 21 epoch\n",
      "Train MSE = 0.6838437914848328\n",
      "Validation MSE = 0.4907030165195465\n",
      "\n",
      "Start of 22 epoch\n",
      "Train MSE = 0.3709430992603302\n",
      "Validation MSE = 0.15539076924324036\n",
      "\n",
      "Start of 23 epoch\n",
      "Train MSE = 0.1163148581981659\n",
      "Validation MSE = 0.03829047083854675\n",
      "\n",
      "Start of 24 epoch\n",
      "Train MSE = 0.05021830275654793\n",
      "Validation MSE = 0.3189617097377777\n",
      "\n",
      "Start of 25 epoch\n",
      "Train MSE = 0.20635049045085907\n",
      "Validation MSE = 0.586881160736084\n",
      "\n",
      "Start of 26 epoch\n",
      "Train MSE = 0.36625537276268005\n",
      "Validation MSE = 0.5299431085586548\n",
      "\n",
      "Start of 27 epoch\n",
      "Train MSE = 0.3799135386943817\n",
      "Validation MSE = 0.33368736505508423\n",
      "\n",
      "Start of 28 epoch\n",
      "Train MSE = 0.3026981055736542\n",
      "Validation MSE = 0.20605885982513428\n",
      "\n",
      "Start of 29 epoch\n",
      "Train MSE = 0.19661176204681396\n",
      "Validation MSE = 0.1539749652147293\n",
      "\n",
      "Start of 30 epoch\n",
      "Train MSE = 0.14643645286560059\n",
      "Validation MSE = 0.1123361736536026\n",
      "\n",
      "Start of 31 epoch\n",
      "Train MSE = 0.19428704679012299\n",
      "Validation MSE = 0.04938139021396637\n",
      "\n",
      "Start of 32 epoch\n",
      "Train MSE = 0.23507562279701233\n",
      "Validation MSE = 0.023025289177894592\n",
      "\n",
      "Start of 33 epoch\n",
      "Train MSE = 0.20375144481658936\n",
      "Validation MSE = 0.045637570321559906\n",
      "\n",
      "Start of 34 epoch\n",
      "Train MSE = 0.1318194419145584\n",
      "Validation MSE = 0.04431084170937538\n",
      "\n",
      "Start of 35 epoch\n",
      "Train MSE = 0.0528644360601902\n",
      "Validation MSE = 0.0287673007696867\n",
      "\n",
      "Start of 36 epoch\n",
      "Train MSE = 0.029364703223109245\n",
      "Validation MSE = 0.03647666424512863\n",
      "\n",
      "Start of 37 epoch\n",
      "Train MSE = 0.07882034778594971\n",
      "Validation MSE = 0.042700059711933136\n",
      "\n",
      "Start of 38 epoch\n",
      "Train MSE = 0.12887944281101227\n",
      "Validation MSE = 0.056824229657649994\n",
      "\n",
      "Start of 39 epoch\n",
      "Train MSE = 0.1407356709241867\n",
      "Validation MSE = 0.08660096675157547\n",
      "\n",
      "Start of 40 epoch\n",
      "Train MSE = 0.11397437006235123\n",
      "Validation MSE = 0.0947815403342247\n",
      "\n",
      "Start of 41 epoch\n",
      "Train MSE = 0.06557814031839371\n",
      "Validation MSE = 0.08328146487474442\n",
      "\n",
      "Start of 42 epoch\n",
      "Train MSE = 0.04480353742837906\n",
      "Validation MSE = 0.08070949465036392\n",
      "\n",
      "Start of 43 epoch\n",
      "Train MSE = 0.055251915007829666\n",
      "Validation MSE = 0.0941295400261879\n",
      "\n",
      "Start of 44 epoch\n",
      "Train MSE = 0.06474611163139343\n",
      "Validation MSE = 0.09683790802955627\n",
      "\n",
      "Start of 45 epoch\n",
      "Train MSE = 0.06256002187728882\n",
      "Validation MSE = 0.05873817205429077\n",
      "\n",
      "Start of 46 epoch\n",
      "Train MSE = 0.042413078248500824\n",
      "Validation MSE = 0.020236214622855186\n",
      "\n",
      "Start of 47 epoch\n",
      "Train MSE = 0.023136135190725327\n",
      "Validation MSE = 0.024479137733578682\n",
      "\n",
      "Start of 48 epoch\n",
      "Train MSE = 0.027765236794948578\n",
      "Validation MSE = 0.03879678621888161\n",
      "\n",
      "Start of 49 epoch\n",
      "Train MSE = 0.04298922047019005\n",
      "Validation MSE = 0.0378287248313427\n",
      "\n",
      "Start of 50 epoch\n",
      "Train MSE = 0.054339032620191574\n",
      "Validation MSE = 0.031688790768384933\n",
      "\n",
      "Start of 51 epoch\n",
      "Train MSE = 0.050547197461128235\n",
      "Validation MSE = 0.025538941845297813\n",
      "\n",
      "Start of 52 epoch\n",
      "Train MSE = 0.031954821199178696\n",
      "Validation MSE = 0.01872432976961136\n",
      "\n",
      "Start of 53 epoch\n",
      "Train MSE = 0.019627589732408524\n",
      "Validation MSE = 0.015029959380626678\n",
      "\n",
      "Start of 54 epoch\n",
      "Train MSE = 0.018766360357403755\n",
      "Validation MSE = 0.027152415364980698\n",
      "\n",
      "Start of 55 epoch\n",
      "Train MSE = 0.024415556341409683\n",
      "Validation MSE = 0.044009529054164886\n",
      "\n",
      "Start of 56 epoch\n",
      "Train MSE = 0.028919871896505356\n",
      "Validation MSE = 0.04128561541438103\n",
      "\n",
      "Start of 57 epoch\n",
      "Train MSE = 0.024224087595939636\n",
      "Validation MSE = 0.02931261621415615\n",
      "\n",
      "Start of 58 epoch\n",
      "Train MSE = 0.01871521584689617\n",
      "Validation MSE = 0.024046942591667175\n",
      "\n",
      "Start of 59 epoch\n",
      "Train MSE = 0.018105510622262955\n",
      "Validation MSE = 0.023943806067109108\n",
      "\n",
      "Start of 60 epoch\n",
      "Train MSE = 0.021532252430915833\n",
      "Validation MSE = 0.023587485775351524\n",
      "\n",
      "Start of 61 epoch\n",
      "Train MSE = 0.025302918627858162\n",
      "Validation MSE = 0.019943799823522568\n",
      "\n",
      "Start of 62 epoch\n",
      "Train MSE = 0.022294361144304276\n",
      "Validation MSE = 0.01676986739039421\n",
      "\n",
      "Start of 63 epoch\n",
      "Train MSE = 0.0161813423037529\n",
      "Validation MSE = 0.015505376271903515\n",
      "\n",
      "Start of 64 epoch\n",
      "Train MSE = 0.012132071889936924\n",
      "Validation MSE = 0.016698017716407776\n",
      "\n",
      "Start of 65 epoch\n",
      "Train MSE = 0.012365973554551601\n",
      "Validation MSE = 0.018158340826630592\n",
      "\n",
      "Start of 66 epoch\n",
      "Train MSE = 0.01581057906150818\n",
      "Validation MSE = 0.015235885977745056\n",
      "\n",
      "Start of 67 epoch\n",
      "Train MSE = 0.016680613160133362\n",
      "Validation MSE = 0.012770201079547405\n",
      "\n",
      "Start of 68 epoch\n",
      "Train MSE = 0.015109632164239883\n",
      "Validation MSE = 0.013053289614617825\n",
      "\n",
      "Start of 69 epoch\n",
      "Train MSE = 0.012984533794224262\n",
      "Validation MSE = 0.013524191454052925\n",
      "\n",
      "Start of 70 epoch\n",
      "Train MSE = 0.012524503283202648\n",
      "Validation MSE = 0.013890359550714493\n",
      "\n",
      "Start of 71 epoch\n",
      "Train MSE = 0.013802583329379559\n",
      "Validation MSE = 0.0140309389680624\n",
      "\n",
      "Start of 72 epoch\n",
      "Train MSE = 0.013655265793204308\n",
      "Validation MSE = 0.013730661012232304\n",
      "\n",
      "Start of 73 epoch\n",
      "Train MSE = 0.01214522309601307\n",
      "Validation MSE = 0.013882864266633987\n",
      "\n",
      "Start of 74 epoch\n",
      "Train MSE = 0.010157858952879906\n",
      "Validation MSE = 0.017845306545495987\n",
      "\n",
      "Start of 75 epoch\n",
      "Train MSE = 0.009806730784475803\n",
      "Validation MSE = 0.02246655337512493\n",
      "\n",
      "Start of 76 epoch\n",
      "Train MSE = 0.010984795168042183\n",
      "Validation MSE = 0.02281280979514122\n",
      "\n",
      "Start of 77 epoch\n",
      "Train MSE = 0.011720860376954079\n",
      "Validation MSE = 0.021505866199731827\n",
      "\n",
      "Start of 78 epoch\n",
      "Train MSE = 0.011415231972932816\n",
      "Validation MSE = 0.021110899746418\n",
      "\n",
      "Start of 79 epoch\n",
      "Train MSE = 0.01019080076366663\n",
      "Validation MSE = 0.02027166821062565\n",
      "\n",
      "Start of 80 epoch\n",
      "Train MSE = 0.009688308462500572\n",
      "Validation MSE = 0.01752796396613121\n",
      "\n",
      "Start of 81 epoch\n",
      "Train MSE = 0.009833215735852718\n",
      "Validation MSE = 0.015032420866191387\n",
      "\n",
      "Start of 82 epoch\n",
      "Train MSE = 0.009985201992094517\n",
      "Validation MSE = 0.014215710572898388\n",
      "\n",
      "Start of 83 epoch\n",
      "Train MSE = 0.009585563093423843\n",
      "Validation MSE = 0.014664150774478912\n",
      "\n",
      "Start of 84 epoch\n",
      "Train MSE = 0.008895768783986568\n",
      "Validation MSE = 0.01538931392133236\n",
      "\n",
      "Start of 85 epoch\n",
      "Train MSE = 0.008806759491562843\n",
      "Validation MSE = 0.015053327195346355\n",
      "\n",
      "Start of 86 epoch\n",
      "Train MSE = 0.009101680479943752\n",
      "Validation MSE = 0.014564724639058113\n",
      "\n",
      "Start of 87 epoch\n",
      "Train MSE = 0.00938833225518465\n",
      "Validation MSE = 0.014958937652409077\n",
      "\n",
      "Start of 88 epoch\n",
      "Train MSE = 0.009059695526957512\n",
      "Validation MSE = 0.01568196527659893\n",
      "\n",
      "Start of 89 epoch\n",
      "Train MSE = 0.008540699258446693\n",
      "Validation MSE = 0.01550903357565403\n",
      "\n",
      "Start of 90 epoch\n",
      "Train MSE = 0.008250161074101925\n",
      "Validation MSE = 0.015003743581473827\n",
      "\n",
      "Start of 91 epoch\n",
      "Train MSE = 0.00829496793448925\n",
      "Validation MSE = 0.01544036902487278\n",
      "\n",
      "Start of 92 epoch\n",
      "Train MSE = 0.008352124132215977\n",
      "Validation MSE = 0.01708708330988884\n",
      "\n",
      "Start of 93 epoch\n",
      "Train MSE = 0.008150067180395126\n",
      "Validation MSE = 0.018860945478081703\n",
      "\n",
      "Start of 94 epoch\n",
      "Train MSE = 0.007934138178825378\n",
      "Validation MSE = 0.01947665400803089\n",
      "\n",
      "Start of 95 epoch\n",
      "Train MSE = 0.00785205140709877\n",
      "Validation MSE = 0.019674822688102722\n",
      "\n",
      "Start of 96 epoch\n",
      "Train MSE = 0.007946555502712727\n",
      "Validation MSE = 0.02023678459227085\n",
      "\n",
      "Start of 97 epoch\n",
      "Train MSE = 0.007889626547694206\n",
      "Validation MSE = 0.02016417123377323\n",
      "\n",
      "Start of 98 epoch\n",
      "Train MSE = 0.007681623566895723\n",
      "Validation MSE = 0.018552284687757492\n",
      "\n",
      "Start of 99 epoch\n",
      "Train MSE = 0.007437568157911301\n",
      "Validation MSE = 0.016741570085287094\n",
      "\n",
      "Start of 100 epoch\n",
      "Train MSE = 0.007368359714746475\n",
      "Validation MSE = 0.016012785956263542\n",
      "\n"
     ]
    }
   ],
   "source": [
    "def train_step(x, y, model, optimizer, loss_fn):\n",
    "    # Open a GradientTape.\n",
    "    with tf.GradientTape() as tape:\n",
    "        # Forward pass.\n",
    "        pred = model(x)\n",
    "        # Loss value for this batch.\n",
    "        loss_value = loss_fn(y, pred)\n",
    "    # Get gradients of loss wrt the weights.\n",
    "    gradients = tape.gradient(loss_value, model.trainable_weights)\n",
    "    # Update the weights of the model.\n",
    "    optimizer.apply_gradients(zip(gradients, model.trainable_weights))\n",
    "    \n",
    "    return loss_value\n",
    "\n",
    "def validate_step(x, y, model, loss_fn): \n",
    "    val_pred = model(x)\n",
    "    loss_value = loss_fn(y, val_pred)\n",
    "    return loss_value\n",
    "\n",
    "def train_linear_model(train_dataloader, val_dataloader, epochs, optimizer=None, lr_schedule=None, pretrain_path=None, loss_fn=tf.keras.losses.MeanSquaredError(), args: dict = None):\n",
    "    if lr_schedule is None: \n",
    "        lr_schedule = tf.keras.optimizers.schedules.ExponentialDecay(\n",
    "            initial_learning_rate=args['learning_rate'],\n",
    "            decay_steps=10000,\n",
    "            decay_rate=0.9)\n",
    "    if optimizer is None: \n",
    "        optimizer = tf.keras.optimizers.Adam(learning_rate=lr_schedule)\n",
    "    best_val_loss = None \n",
    "    lr = args['learning_rate']\n",
    "    # alpha = args['alpha']\n",
    "    # best_path = f'model_best_lr_{lr}_alpha_{alpha}'\n",
    "    train_losses = []\n",
    "    val_losses = []\n",
    "    for epoch in range(epochs): \n",
    "        print(f'Start of {epoch + 1} epoch')\n",
    "        train_loss = 0\n",
    "        for x, y in train_dataloader: \n",
    "            loss_value = train_step(x, y, model, optimizer, loss_fn)\n",
    "            train_loss += loss_value\n",
    "    \n",
    "        print(f'Train MSE = {train_loss}')\n",
    "\n",
    "        val_loss = 0\n",
    "        for val_x, val_y in val_dataloader: \n",
    "            loss_value = validate_step(val_x, val_y, model, loss_fn)\n",
    "            val_loss += loss_value \n",
    "        \n",
    "        print(f'Validation MSE = {val_loss}')\n",
    "        print()\n",
    "        \n",
    "        val_loss = val_loss / len(val_dataloader)\n",
    "\n",
    "        if best_val_loss is None or val_loss < best_val_loss: \n",
    "            best_val_loss = val_loss\n",
    "            # model.save(best_path)\n",
    "        \n",
    "        train_losses.append(train_loss)\n",
    "        val_losses.append(val_loss) \n",
    "    \n",
    "    # model.save('model_latest')\n",
    "    return train_losses, val_losses\n",
    "\n",
    "L = 5\n",
    "d = full_data.shape[1] - 1\n",
    "epochs = 100\n",
    "\n",
    "X_train = tf.convert_to_tensor(fold_data[0]['X_train'], dtype=tf.float32)\n",
    "y_train = tf.convert_to_tensor(fold_data[0]['y_train'], dtype=tf.float32)\n",
    "X_val = tf.convert_to_tensor(fold_data[0]['X_val'], dtype=tf.float32)\n",
    "y_val = tf.convert_to_tensor(fold_data[0]['y_val'], dtype=tf.float32)\n",
    "# Initialize the dataset\n",
    "batch_size = 2048\n",
    "train_dataset = tf.data.Dataset.from_tensor_slices((X_train, y_train))\n",
    "train_dataloader = train_dataset.batch(batch_size)\n",
    "val_dataset = tf.data.Dataset.from_tensor_slices((X_val, y_val))\n",
    "val_dataloader = val_dataset.batch(batch_size)\n",
    "args = {\n",
    "    'learning_rate': 1e-3, \n",
    "    # 'alpha': 0.02\n",
    "}\n",
    "lr = args['learning_rate']\n",
    "# alpha = args['alpha']\n",
    "# model = keras.models.load_model(\"after_300_epochs\")\n",
    "model = NLinear(256, 128)\n",
    "# Learning rate scheduling\n",
    "lr_schedule = tf.keras.optimizers.schedules.ExponentialDecay(\n",
    "    initial_learning_rate=args['learning_rate'],\n",
    "    decay_steps=10000,\n",
    "    decay_rate=0.9)\n",
    "# Instantiate an optimizer.\n",
    "optimizer = tf.keras.optimizers.Adam(learning_rate=lr_schedule)\n",
    "# Instantiate a loss function\n",
    "loss_fn = tf.keras.losses.MeanSquaredError()\n",
    "train_history, val_history = train_linear_model(train_dataloader, val_dataloader, epochs, args=args)"
   ]
  },
  {
   "cell_type": "code",
   "execution_count": null,
   "metadata": {},
   "outputs": [
    {
     "data": {
      "text/plain": [
       "<matplotlib.legend.Legend at 0x384e01970>"
      ]
     },
     "execution_count": 127,
     "metadata": {},
     "output_type": "execute_result"
    },
    {
     "data": {
      "image/png": "[encoded data removed]",
      "text/plain": [
       "<Figure size 640x480 with 1 Axes>"
      ]
     },
     "metadata": {},
     "output_type": "display_data"
    },
    {
     "data": {
      "image/png": "[encoded data removed]",
      "text/plain": [
       "<Figure size 640x480 with 1 Axes>"
      ]
     },
     "metadata": {},
     "output_type": "display_data"
    },
    {
     "data": {
      "image/png": "[encoded data removed]",
      "text/plain": [
       "<Figure size 640x480 with 1 Axes>"
      ]
     },
     "metadata": {},
     "output_type": "display_data"
    }
   ],
   "source": [
    "fig = plt.figure()\n",
    "plt.plot(range(X_train.shape[0]), model(X_train[:]), label='prediction')\n",
    "plt.plot(range(X_train.shape[0]), y_train, label='actual')\n",
    "plt.legend()\n",
    "fig = plt.figure()\n",
    "plt.plot(range(X_val.shape[0]), model(X_val[:]), label='prediction')\n",
    "plt.plot(range(X_val.shape[0]), y_val, label='actual')\n",
    "plt.legend()\n",
    "fig = plt.figure()\n",
    "plt.plot(range(X_test.shape[0]), model(X_test[:]), label='prediction')\n",
    "plt.plot(range(X_test.shape[0]), y_test, label='actual')\n",
    "plt.legend()"
   ]
  },
  {
   "attachments": {},
   "cell_type": "markdown",
   "metadata": {},
   "source": [
    "## Feedback Needed\n",
    "\n",
    "Currently, the visualization shows that the autoencoder is overfitting. I'm trying to use `L2` regularization to avoid really huge reconstructed 20-day return. I am assuming the problem comes from different time period has a overall trend of 20-day return. Since I split the train-val-test based on `TimeSeriesSplit`, there might be a distribution shift from the training set to test set. I wonder what would be a good idea to solve this other than regularization. In addition, I'm afraid that this weak autoencoder would cause compounding error later on in forecasting."
   ]
  },
  {
   "attachments": {},
   "cell_type": "markdown",
   "metadata": {},
   "source": [
    "## Appendix: Data Preparation\n",
    "We have five raw datasets, each of which comes in different formats. The goal of this section is to prepare the datasets into a unified `DataFrame` with features needed by feature extraction and the same dates. Standardization and pipeline preprocessing would be in the next section."
   ]
  },
  {
   "cell_type": "code",
   "execution_count": null,
   "metadata": {},
   "outputs": [],
   "source": [
    "import pandas as pd \n",
    "import numpy as np "
   ]
  },
  {
   "attachments": {},
   "cell_type": "markdown",
   "metadata": {},
   "source": [
    "### AAPL"
   ]
  },
  {
   "cell_type": "code",
   "execution_count": null,
   "metadata": {},
   "outputs": [
    {
     "data": {
      "text/plain": [
       "(2512, 6)"
      ]
     },
     "execution_count": 24,
     "metadata": {},
     "output_type": "execute_result"
    }
   ],
   "source": [
    "aapl = pd.read_csv('../raw_data/AAPL.csv')\n",
    "\n",
    "# Target the time frame: 2013/05/06 - 2023/04/26\n",
    "aapl = aapl[(aapl['Date'] >= '2013-05-06') & (aapl['Date'] <= '2023-04-26')]\n",
    "\n",
    "# Get target features \n",
    "aapl_features = aapl[['Date', 'Open', 'Close', 'High', 'Low', 'Volume']]\n",
    "aapl_features.shape"
   ]
  },
  {
   "attachments": {},
   "cell_type": "markdown",
   "metadata": {},
   "source": [
    "### Macroeconomic Variables\n",
    "\n",
    "#### US Treasury Bill Bond (13 Weeks)\n",
    "\n",
    "- Typical Price of US Treasury Bill Bond (13 Weeks)"
   ]
  },
  {
   "cell_type": "code",
   "execution_count": null,
   "metadata": {},
   "outputs": [
    {
     "data": {
      "text/plain": [
       "(2512, 2)"
      ]
     },
     "execution_count": 25,
     "metadata": {},
     "output_type": "execute_result"
    }
   ],
   "source": [
    "from sklearn.preprocessing import FunctionTransformer\n",
    "from sklearn.compose import ColumnTransformer\n",
    "\n",
    "def get_typical_price(X): \n",
    "    return np.average(X, axis=1)\n",
    "\n",
    "risk_free = pd.read_csv('../raw_data/US_Treasury_Bond_13weeks.csv')\n",
    "risk_free = risk_free.dropna()\n",
    "risk_free = risk_free[risk_free['Date'] >= '2013-05-06']\n",
    "transformer = FunctionTransformer(get_typical_price)\n",
    "typical_price = transformer.fit_transform(risk_free[['High', 'Close', 'Low']])\n",
    "risk_free = pd.DataFrame({\n",
    "    'Date': risk_free['Date'], \n",
    "    'Typical Price': typical_price\n",
    "})\n",
    "risk_free.shape"
   ]
  },
  {
   "attachments": {},
   "cell_type": "markdown",
   "metadata": {},
   "source": [
    "#### S&P 500 Index"
   ]
  },
  {
   "cell_type": "code",
   "execution_count": null,
   "metadata": {},
   "outputs": [
    {
     "data": {
      "text/plain": [
       "(2512, 2)"
      ]
     },
     "execution_count": 26,
     "metadata": {},
     "output_type": "execute_result"
    }
   ],
   "source": [
    "sp500 = pd.read_csv('../raw_data/sp500_index.csv')\n",
    "sp500 = sp500[sp500['Date'] <= '2023-04-26']\n",
    "sp500.shape"
   ]
  },
  {
   "attachments": {},
   "cell_type": "markdown",
   "metadata": {},
   "source": [
    "### Fundamentals"
   ]
  },
  {
   "attachments": {},
   "cell_type": "markdown",
   "metadata": {},
   "source": [
    "#### Valuation measures\n",
    "- PeRatio: Share price over earnings per share\n",
    "- PsRatio: Share price over sales per share\n",
    "- PbRatio: Share price over book per share\n",
    "- Enterprise value to revenue ratio \n",
    "- Enterprise value to EDITDA(Earnings Before Interest, Taxes, Depreciation, and Amortization) ratio"
   ]
  },
  {
   "cell_type": "code",
   "execution_count": null,
   "metadata": {},
   "outputs": [
    {
     "name": "stdout",
     "output_type": "stream",
     "text": [
      "(2512, 2)\n",
      "(2512, 2)\n",
      "(2512, 2)\n",
      "(2512, 2)\n",
      "(2512, 2)\n"
     ]
    }
   ],
   "source": [
    "from datetime import datetime\n",
    "\n",
    "val_measure = pd.read_csv('../raw_data/AAPL_quarterly_valuation_measures.csv')\n",
    "# print(val_measure.columns)\n",
    "peratio = val_measure[val_measure.name == 'PeRatio'].drop(columns=['ttm', 'name'])\n",
    "psratio = val_measure[val_measure.name == 'PsRatio'].drop(columns=['ttm', 'name'])\n",
    "pbratio = val_measure[val_measure.name == 'PbRatio'].drop(columns=['ttm', 'name'])\n",
    "enterprise_val_revenue_ratio = val_measure[val_measure.name == 'EnterprisesValueRevenueRatio'].drop(columns=['ttm', 'name'])\n",
    "enterprise_val_ebitda_ratio = val_measure[val_measure.name == 'EnterprisesValueEBITDARatio'].drop(columns=['ttm', 'name'])\n",
    "feats = [peratio, psratio, pbratio, enterprise_val_revenue_ratio, enterprise_val_ebitda_ratio]\n",
    "names = ['PeRatio', 'PsRatio', 'PbRatio', 'EnterpriseValueRevenueRatio', 'EnterpriseValueEDITDARatio']\n",
    "dates = sp500.Date \n",
    "\n",
    "def quarterly_to_daily(quarter_data, dates, name):\n",
    "    target_date = []\n",
    "    for d in dates: \n",
    "        target_date.append(np.max(quarter_data.columns[quarter_data.columns <= d]))\n",
    "    daily_data = np.zeros(dates.shape[0])\n",
    "    for i, d in enumerate(target_date): \n",
    "        daily_data[i] = quarter_data[d]\n",
    "    return pd.DataFrame({\n",
    "        'Date': dates,\n",
    "        name: daily_data\n",
    "    })\n",
    "\n",
    "def transform_date_format(X): \n",
    "    '''\n",
    "    Transform the date format of input data's columns to format yyyy-mm-dd\n",
    "\n",
    "    Args: \n",
    "        X: pd.DataFrame where the columns should be quarterly dates in the format mm/dd/yyyy\n",
    "    Returns: \n",
    "        X_transformed: pd.DataFrame where the columns would be quarterly dates in the format yyyy-mm-dd\n",
    "    '''\n",
    "    dates = []\n",
    "    for d in X.columns: \n",
    "        date_obj = datetime.strptime(d, '%m/%d/%Y')\n",
    "        dates.append(date_obj.strftime('%Y-%m-%d'))\n",
    "    X_transformed = pd.DataFrame(X.values, columns=dates)\n",
    "    return X_transformed\n",
    "\n",
    "for i, feat in enumerate(feats): \n",
    "    feats[i] = quarterly_to_daily(transform_date_format(feat), dates, names[i])\n",
    "\n",
    "for i, feat in enumerate(feats): \n",
    "    print(feats[i].shape)"
   ]
  },
  {
   "attachments": {},
   "cell_type": "markdown",
   "metadata": {},
   "source": [
    "#### Financials\n",
    "\n",
    "- BasicEPS: Earning Per Share"
   ]
  },
  {
   "cell_type": "code",
   "execution_count": null,
   "metadata": {},
   "outputs": [
    {
     "name": "stdout",
     "output_type": "stream",
     "text": [
      "(2512, 2)\n"
     ]
    }
   ],
   "source": [
    "dates = sp500.Date \n",
    "fin_measure = pd.read_csv('../raw_data/AAPL_quarterly_financials.csv')\n",
    "# print(fin_measure.columns)\n",
    "eps = fin_measure[fin_measure.name == 'BasicEPS'].drop(columns=['ttm', 'name'])\n",
    "eps = quarterly_to_daily(transform_date_format(eps), dates, 'BasicEPS')\n",
    "print(eps.shape)"
   ]
  },
  {
   "attachments": {},
   "cell_type": "markdown",
   "metadata": {},
   "source": [
    "### Concatenate all basic features"
   ]
  },
  {
   "cell_type": "code",
   "execution_count": null,
   "metadata": {},
   "outputs": [],
   "source": [
    "joined_data = pd.merge(aapl_features, sp500, on='Date')\n",
    "for f in feats: \n",
    "    joined_data = pd.merge(joined_data, f, on='Date')\n",
    "joined_data = pd.merge(joined_data, eps, on='Date')\n",
    "joined_data.to_csv('../prepared_data/data.csv')"
   ]
  }
 ],
 "metadata": {
  "kernelspec": {
   "display_name": "tf-metal",
   "language": "python",
   "name": "python3"
  },
  "language_info": {
   "codemirror_mode": {
    "name": "ipython",
    "version": 3
   },
   "file_extension": ".py",
   "mimetype": "text/x-python",
   "name": "python",
   "nbconvert_exporter": "python",
   "pygments_lexer": "ipython3",
   "version": "3.10.11"
  },
  "orig_nbformat": 4
 },
 "nbformat": 4,
 "nbformat_minor": 2
}
